{
 "cells": [
  {
   "cell_type": "code",
   "execution_count": 1,
   "id": "904e26e2",
   "metadata": {},
   "outputs": [],
   "source": [
    "import pandas as pd\n",
    "import numpy as np\n",
    "\n",
    "import matplotlib.pyplot as plt\n",
    "import seaborn as sns\n",
    "import os\n",
    "from sklearn.model_selection import train_test_split\n",
    "import matplotlib.image as mpimg\n",
    "import cv2\n",
    "import random\n",
    "from imgaug import augmenters as iaa\n",
    "\n",
    "from keras.layers import Conv1D, MaxPool1D, Dropout, Flatten\n",
    "import keras\n",
    "from keras.models import Sequential\n",
    "from keras.layers import Dense\n",
    "\n",
    "from tensorflow.keras.layers import Convolution2D, MaxPooling2D, Dropout, Flatten, Dense\n",
    "from tensorflow.keras.models import Sequential\n",
    "from tensorflow.keras.optimizers import Adam"
   ]
  },
  {
   "cell_type": "code",
   "execution_count": 2,
   "id": "c9b77d72",
   "metadata": {},
   "outputs": [],
   "source": [
    "columns = ['center', 'left', 'right', 'steering', 'throttle', 'reverse', 'speed']\n",
    "\n",
    "data= pd.read_csv('data/self_driving_car_dataset_make/driving_log.csv',names = columns)"
   ]
  },
  {
   "cell_type": "code",
   "execution_count": 3,
   "id": "019e56db",
   "metadata": {},
   "outputs": [
    {
     "data": {
      "text/html": [
       "<div>\n",
       "<style scoped>\n",
       "    .dataframe tbody tr th:only-of-type {\n",
       "        vertical-align: middle;\n",
       "    }\n",
       "\n",
       "    .dataframe tbody tr th {\n",
       "        vertical-align: top;\n",
       "    }\n",
       "\n",
       "    .dataframe thead th {\n",
       "        text-align: right;\n",
       "    }\n",
       "</style>\n",
       "<table border=\"1\" class=\"dataframe\">\n",
       "  <thead>\n",
       "    <tr style=\"text-align: right;\">\n",
       "      <th></th>\n",
       "      <th>center</th>\n",
       "      <th>left</th>\n",
       "      <th>right</th>\n",
       "      <th>steering</th>\n",
       "      <th>throttle</th>\n",
       "      <th>reverse</th>\n",
       "      <th>speed</th>\n",
       "    </tr>\n",
       "  </thead>\n",
       "  <tbody>\n",
       "    <tr>\n",
       "      <th>0</th>\n",
       "      <td>IMG\\center_2022_04_10_12_24_41_840.jpg</td>\n",
       "      <td>IMG\\left_2022_04_10_12_24_41_840.jpg</td>\n",
       "      <td>IMG\\right_2022_04_10_12_24_41_840.jpg</td>\n",
       "      <td>0.0</td>\n",
       "      <td>0.0</td>\n",
       "      <td>0</td>\n",
       "      <td>0.000013</td>\n",
       "    </tr>\n",
       "    <tr>\n",
       "      <th>1</th>\n",
       "      <td>IMG\\center_2022_04_10_12_24_41_908.jpg</td>\n",
       "      <td>IMG\\left_2022_04_10_12_24_41_908.jpg</td>\n",
       "      <td>IMG\\right_2022_04_10_12_24_41_908.jpg</td>\n",
       "      <td>0.0</td>\n",
       "      <td>0.0</td>\n",
       "      <td>0</td>\n",
       "      <td>0.000010</td>\n",
       "    </tr>\n",
       "    <tr>\n",
       "      <th>2</th>\n",
       "      <td>IMG\\center_2022_04_10_12_24_41_976.jpg</td>\n",
       "      <td>IMG\\left_2022_04_10_12_24_41_976.jpg</td>\n",
       "      <td>IMG\\right_2022_04_10_12_24_41_976.jpg</td>\n",
       "      <td>0.0</td>\n",
       "      <td>0.0</td>\n",
       "      <td>0</td>\n",
       "      <td>0.000008</td>\n",
       "    </tr>\n",
       "    <tr>\n",
       "      <th>3</th>\n",
       "      <td>IMG\\center_2022_04_10_12_24_42_044.jpg</td>\n",
       "      <td>IMG\\left_2022_04_10_12_24_42_044.jpg</td>\n",
       "      <td>IMG\\right_2022_04_10_12_24_42_044.jpg</td>\n",
       "      <td>0.0</td>\n",
       "      <td>0.0</td>\n",
       "      <td>0</td>\n",
       "      <td>0.000021</td>\n",
       "    </tr>\n",
       "    <tr>\n",
       "      <th>4</th>\n",
       "      <td>IMG\\center_2022_04_10_12_24_42_116.jpg</td>\n",
       "      <td>IMG\\left_2022_04_10_12_24_42_116.jpg</td>\n",
       "      <td>IMG\\right_2022_04_10_12_24_42_116.jpg</td>\n",
       "      <td>0.0</td>\n",
       "      <td>0.0</td>\n",
       "      <td>0</td>\n",
       "      <td>0.000014</td>\n",
       "    </tr>\n",
       "  </tbody>\n",
       "</table>\n",
       "</div>"
      ],
      "text/plain": [
       "                                   center  \\\n",
       "0  IMG\\center_2022_04_10_12_24_41_840.jpg   \n",
       "1  IMG\\center_2022_04_10_12_24_41_908.jpg   \n",
       "2  IMG\\center_2022_04_10_12_24_41_976.jpg   \n",
       "3  IMG\\center_2022_04_10_12_24_42_044.jpg   \n",
       "4  IMG\\center_2022_04_10_12_24_42_116.jpg   \n",
       "\n",
       "                                   left  \\\n",
       "0  IMG\\left_2022_04_10_12_24_41_840.jpg   \n",
       "1  IMG\\left_2022_04_10_12_24_41_908.jpg   \n",
       "2  IMG\\left_2022_04_10_12_24_41_976.jpg   \n",
       "3  IMG\\left_2022_04_10_12_24_42_044.jpg   \n",
       "4  IMG\\left_2022_04_10_12_24_42_116.jpg   \n",
       "\n",
       "                                   right  steering  throttle  reverse  \\\n",
       "0  IMG\\right_2022_04_10_12_24_41_840.jpg       0.0       0.0        0   \n",
       "1  IMG\\right_2022_04_10_12_24_41_908.jpg       0.0       0.0        0   \n",
       "2  IMG\\right_2022_04_10_12_24_41_976.jpg       0.0       0.0        0   \n",
       "3  IMG\\right_2022_04_10_12_24_42_044.jpg       0.0       0.0        0   \n",
       "4  IMG\\right_2022_04_10_12_24_42_116.jpg       0.0       0.0        0   \n",
       "\n",
       "      speed  \n",
       "0  0.000013  \n",
       "1  0.000010  \n",
       "2  0.000008  \n",
       "3  0.000021  \n",
       "4  0.000014  "
      ]
     },
     "execution_count": 3,
     "metadata": {},
     "output_type": "execute_result"
    }
   ],
   "source": [
    "data.head()"
   ]
  },
  {
   "cell_type": "code",
   "execution_count": 4,
   "id": "e332db77",
   "metadata": {},
   "outputs": [
    {
     "data": {
      "text/plain": [
       "(3930, 7)"
      ]
     },
     "execution_count": 4,
     "metadata": {},
     "output_type": "execute_result"
    }
   ],
   "source": [
    "data.shape"
   ]
  },
  {
   "cell_type": "code",
   "execution_count": 5,
   "id": "e642e3fd",
   "metadata": {},
   "outputs": [
    {
     "data": {
      "text/plain": [
       "Index(['center', 'left', 'right', 'steering', 'throttle', 'reverse', 'speed'], dtype='object')"
      ]
     },
     "execution_count": 5,
     "metadata": {},
     "output_type": "execute_result"
    }
   ],
   "source": [
    "data.columns"
   ]
  },
  {
   "cell_type": "code",
   "execution_count": 6,
   "id": "1c5ee905",
   "metadata": {},
   "outputs": [
    {
     "data": {
      "image/png": "[encoded data removed]",
      "text/plain": [
       "<Figure size 1296x1296 with 4 Axes>"
      ]
     },
     "metadata": {
      "needs_background": "light"
     },
     "output_type": "display_data"
    }
   ],
   "source": [
    "\n",
    "num_cols= ['steering', 'throttle', 'reverse', 'speed']\n",
    "\n",
    "plt.figure(figsize=(18,18))\n",
    "for i,j in zip(range(1,18),num_cols):\n",
    "    plt.subplot(6, 3, i)\n",
    "    plt.subplots_adjust(right=0.9,top=1.8)\n",
    "    plt.hist(data[j], bins = 15)\n",
    "    sns.set_theme()\n",
    "    plt.title('Histogram distribution of {}'.format(j))\n",
    "\n"
   ]
  },
  {
   "cell_type": "code",
   "execution_count": 7,
   "id": "e401451b",
   "metadata": {},
   "outputs": [
    {
     "data": {
      "image/png": "[encoded data removed]",
      "text/plain": [
       "<Figure size 1296x1296 with 4 Axes>"
      ]
     },
     "metadata": {},
     "output_type": "display_data"
    }
   ],
   "source": [
    "plt.figure(figsize=(18,18))\n",
    "for i,j in zip(range(1, 18),num_cols):\n",
    "    plt.subplot(6, 3, i)\n",
    "    plt.subplots_adjust(right=0.9,top=1.8)\n",
    "    sns.boxplot(data=data, x=j)\n",
    "    sns.set_theme()\n",
    "    plt.title('Boxplot of {}'.format(j))"
   ]
  },
  {
   "cell_type": "code",
   "execution_count": 8,
   "id": "f778b482",
   "metadata": {},
   "outputs": [],
   "source": [
    "def load_img_steering(datadir, df):\n",
    "  image_path = []\n",
    "  steering = []\n",
    "  for i in range(len(data)):\n",
    "    indexed_data = data.iloc[i]\n",
    "    center, left, right = indexed_data[0], indexed_data[1], indexed_data[2]\n",
    "    image_path.append(os.path.join(datadir, center.strip()))\n",
    "    steering.append(float(indexed_data[3]))\n",
    "    image_path.append(os.path.join(datadir,left.strip()))\n",
    "    steering.append(float(indexed_data[3])+0.15)\n",
    "    image_path.append(os.path.join(datadir,right.strip()))\n",
    "    steering.append(float(indexed_data[3])-0.15)\n",
    "  image_paths = np.asarray(image_path)\n",
    "  steerings = np.asarray(steering)\n",
    "  return image_paths, steerings"
   ]
  },
  {
   "cell_type": "code",
   "execution_count": 9,
   "id": "36fd64de",
   "metadata": {},
   "outputs": [],
   "source": [
    "datadir = ''\n",
    "image_paths, steerings = load_img_steering(datadir + 'data/self_driving_car_dataset_make/', data)"
   ]
  },
  {
   "cell_type": "code",
   "execution_count": 10,
   "id": "535e8c6a",
   "metadata": {},
   "outputs": [],
   "source": [
    "X_train, X_test, y_train, y_test = train_test_split(image_paths, steerings, test_size=0.3, random_state=42)"
   ]
  },
  {
   "cell_type": "code",
   "execution_count": 11,
   "id": "324e514d",
   "metadata": {},
   "outputs": [],
   "source": [
    "def batch_generator(image_paths, steering_ang, batch_size, istraining):\n",
    "  \n",
    "  while True:\n",
    "    batch_img = []\n",
    "    batch_steering = []\n",
    "    \n",
    "    for i in range(batch_size):\n",
    "      random_index = random.randint(0, len(image_paths) - 1)\n",
    "      \n",
    "      if istraining:\n",
    "        im, steering = random_augment(image_paths[random_index], steering_ang[random_index])\n",
    "     \n",
    "      else:\n",
    "        im = mpimg.imread(image_paths[random_index])\n",
    "        steering = steering_ang[random_index]\n",
    "      \n",
    "      im = img_preprocess(im)\n",
    "      batch_img.append(im)\n",
    "      batch_steering.append(steering)\n",
    "    yield (np.asarray(batch_img), np.asarray(batch_steering))"
   ]
  },
  {
   "cell_type": "markdown",
   "id": "98962900",
   "metadata": {},
   "source": [
    "# Image data preprocessing"
   ]
  },
  {
   "cell_type": "code",
   "execution_count": 12,
   "id": "82f98246",
   "metadata": {},
   "outputs": [],
   "source": [
    "def img_preprocess(img):\n",
    "    # extracting the important parts of image\n",
    "    img = img[60:135,:,:]\n",
    "    \n",
    "    # converting the RGB image to YUV\n",
    "    img = cv2.cvtColor(img, cv2.COLOR_RGB2YUV)\n",
    "    \n",
    "    # Applying gaussian blur\n",
    "    img = cv2.GaussianBlur(img,  (3, 3), 0)\n",
    "    \n",
    "    # resizing the image\n",
    "    img = cv2.resize(img, (200, 66))\n",
    "    \n",
    "    # scaling the image \n",
    "    img = img/255\n",
    "    return img\n",
    "\n",
    "image = image_paths[100]\n",
    "original_image = mpimg.imread(image)\n",
    "preprocessed_image = img_preprocess(original_image)"
   ]
  },
  {
   "cell_type": "code",
   "execution_count": 13,
   "id": "f68baba5",
   "metadata": {},
   "outputs": [],
   "source": [
    "def random_augment(image, steering_angle):\n",
    "    image = mpimg.imread(image)\n",
    "    if np.random.rand() < 0.5:\n",
    "      image = pan(image)\n",
    "    if np.random.rand() < 0.5:\n",
    "      image = zoom(image)\n",
    "    if np.random.rand() < 0.5:\n",
    "      image = img_random_brightness(image)\n",
    "    if np.random.rand() < 0.5:\n",
    "      image, steering_angle = img_random_flip(image, steering_angle)\n",
    "    \n",
    "    return image, steering_angle\n",
    "\n",
    "def pan(image):\n",
    "  pan = iaa.Affine(translate_percent= {\"x\" : (-0.1, 0.1), \"y\": (-0.1, 0.1)})\n",
    "  image = pan.augment_image(image)\n",
    "  return image\n",
    "image = image_paths[random.randint(0, 1000)]\n",
    "original_image = mpimg.imread(image)\n",
    "panned_image = pan(original_image)"
   ]
  },
  {
   "cell_type": "code",
   "execution_count": 14,
   "id": "b28955e4",
   "metadata": {},
   "outputs": [],
   "source": [
    "def zoom(image):\n",
    "  zoom = iaa.Affine(scale=(1, 1.3))\n",
    "  image = zoom.augment_image(image)\n",
    "  return image\n",
    "\n",
    "image = image_paths[random.randint(0, 1000)]\n",
    "original_image = mpimg.imread(image)\n",
    "zoomed_image = zoom(original_image)\n",
    "\n",
    "def img_random_brightness(image):\n",
    "    brightness = iaa.Multiply((0.2, 1.2))\n",
    "    image = brightness.augment_image(image)\n",
    "    return image\n",
    "\n",
    "def img_random_flip(image, steering_angle):\n",
    "    image = cv2.flip(image,1)\n",
    "    steering_angle = -steering_angle\n",
    "    return image, steering_angle"
   ]
  },
  {
   "cell_type": "code",
   "execution_count": 15,
   "id": "0f4da037",
   "metadata": {},
   "outputs": [
    {
     "data": {
      "text/plain": [
       "(3537,)"
      ]
     },
     "execution_count": 15,
     "metadata": {},
     "output_type": "execute_result"
    }
   ],
   "source": [
    "y_test.shape"
   ]
  },
  {
   "cell_type": "markdown",
   "id": "660b3bb2",
   "metadata": {},
   "source": [
    "# Convolutional neural network"
   ]
  },
  {
   "cell_type": "code",
   "execution_count": 16,
   "id": "c56a87c2",
   "metadata": {},
   "outputs": [],
   "source": [
    "from tensorflow.keras.applications import DenseNet121"
   ]
  },
  {
   "cell_type": "code",
   "execution_count": 17,
   "id": "208757b9",
   "metadata": {},
   "outputs": [],
   "source": [
    "def create_network():\n",
    "    model = Sequential()\n",
    "    model.add(Convolution2D(24,(5,5),strides=(2,2),input_shape=(66,200,3),activation=\"relu\"))\n",
    "    model.add(Convolution2D(36,(5,5),strides=(2,2),activation=\"relu\"))\n",
    "    model.add(Convolution2D(48,(5,5),strides=(2,2),activation=\"relu\"))\n",
    "    model.add(Convolution2D(64,(3,3),activation=\"relu\"))\n",
    "    model.add(Convolution2D(64,(3,3),activation=\"relu\"))\n",
    "    model.add(Dropout(0.5))\n",
    "    \n",
    "    model.add(Flatten())\n",
    "    model.add(Dense(100,activation=\"relu\"))\n",
    "    model.add(Dropout(0.5))\n",
    "    \n",
    "    model.add(Dense(50,activation=\"relu\"))\n",
    "    model.add(Dropout(0.5))\n",
    "    model.add(Dense(10,activation=\"relu\"))\n",
    "    model.add(Dropout(0.5))\n",
    "    \n",
    "    model.add(Dense(1))\n",
    "    model.compile(optimizer=Adam(lr=1e-3),loss=\"mse\")\n",
    "    \n",
    "    return model\n"
   ]
  },
  {
   "cell_type": "code",
   "execution_count": 18,
   "id": "2befc59c",
   "metadata": {},
   "outputs": [
    {
     "name": "stdout",
     "output_type": "stream",
     "text": [
      "Model: \"sequential\"\n",
      "_________________________________________________________________\n",
      " Layer (type)                Output Shape              Param #   \n",
      "=================================================================\n",
      " conv2d (Conv2D)             (None, 31, 98, 24)        1824      \n",
      "                                                                 \n",
      " conv2d_1 (Conv2D)           (None, 14, 47, 36)        21636     \n",
      "                                                                 \n",
      " conv2d_2 (Conv2D)           (None, 5, 22, 48)         43248     \n",
      "                                                                 \n",
      " conv2d_3 (Conv2D)           (None, 3, 20, 64)         27712     \n",
      "                                                                 \n",
      " conv2d_4 (Conv2D)           (None, 1, 18, 64)         36928     \n",
      "                                                                 \n",
      " dropout (Dropout)           (None, 1, 18, 64)         0         \n",
      "                                                                 \n",
      " flatten (Flatten)           (None, 1152)              0         \n",
      "                                                                 \n",
      " dense (Dense)               (None, 100)               115300    \n",
      "                                                                 \n",
      " dropout_1 (Dropout)         (None, 100)               0         \n",
      "                                                                 \n",
      " dense_1 (Dense)             (None, 50)                5050      \n",
      "                                                                 \n",
      " dropout_2 (Dropout)         (None, 50)                0         \n",
      "                                                                 \n",
      " dense_2 (Dense)             (None, 10)                510       \n",
      "                                                                 \n",
      " dropout_3 (Dropout)         (None, 10)                0         \n",
      "                                                                 \n",
      " dense_3 (Dense)             (None, 1)                 11        \n",
      "                                                                 \n",
      "=================================================================\n",
      "Total params: 252,219\n",
      "Trainable params: 252,219\n",
      "Non-trainable params: 0\n",
      "_________________________________________________________________\n",
      "None\n"
     ]
    },
    {
     "name": "stderr",
     "output_type": "stream",
     "text": [
      "C:\\Users\\Abhishek\\anaconda3\\lib\\site-packages\\keras\\optimizers\\optimizer_v2\\adam.py:110: UserWarning: The `lr` argument is deprecated, use `learning_rate` instead.\n",
      "  super(Adam, self).__init__(name, **kwargs)\n"
     ]
    }
   ],
   "source": [
    "model = create_network()\n",
    "print(model.summary())"
   ]
  },
  {
   "cell_type": "code",
   "execution_count": 20,
   "id": "8d40105f",
   "metadata": {},
   "outputs": [
    {
     "name": "stdout",
     "output_type": "stream",
     "text": [
      "Epoch 1/7\n",
      "300/300 [==============================] - 161s 536ms/step - loss: 0.0335 - val_loss: 0.0366\n",
      "Epoch 2/7\n",
      "300/300 [==============================] - 129s 432ms/step - loss: 0.0327 - val_loss: 0.0357\n",
      "Epoch 3/7\n",
      "300/300 [==============================] - 129s 430ms/step - loss: 0.0339 - val_loss: 0.0348\n",
      "Epoch 4/7\n",
      "300/300 [==============================] - 128s 428ms/step - loss: 0.0334 - val_loss: 0.0348\n",
      "Epoch 5/7\n",
      "300/300 [==============================] - 128s 429ms/step - loss: 0.0340 - val_loss: 0.0360\n",
      "Epoch 6/7\n",
      "300/300 [==============================] - 128s 427ms/step - loss: 0.0334 - val_loss: 0.0358\n",
      "Epoch 7/7\n",
      "300/300 [==============================] - 129s 431ms/step - loss: 0.0339 - val_loss: 0.0368\n"
     ]
    }
   ],
   "source": [
    "history = model.fit(batch_generator(X_train, y_train, 100, 1),\n",
    "                                  steps_per_epoch=300, \n",
    "                                  epochs=7,\n",
    "                                  validation_data=batch_generator(X_test, y_test, 100, 0),\n",
    "                                  validation_steps=200,\n",
    "                                  verbose=1)"
   ]
  },
  {
   "cell_type": "code",
   "execution_count": 25,
   "id": "9bbf0337",
   "metadata": {},
   "outputs": [],
   "source": [
    "def loss(history):\n",
    "    plt.plot(history.history['loss'])\n",
    "    plt.plot(history.history['val_loss'])\n",
    "    \n",
    "    plt.title('model loss')\n",
    "    plt.ylabel('loss')\n",
    "    plt.xlabel('epoch')\n",
    "    plt.legend(['train', 'test'], loc='upper left')\n",
    "\n",
    "    plt.show()"
   ]
  },
  {
   "cell_type": "code",
   "execution_count": 22,
   "id": "510dc575",
   "metadata": {},
   "outputs": [
    {
     "data": {
      "image/png": "[encoded data removed]",
      "text/plain": [
       "<Figure size 432x288 with 1 Axes>"
      ]
     },
     "metadata": {},
     "output_type": "display_data"
    }
   ],
   "source": [
    "loss(history)"
   ]
  },
  {
   "cell_type": "code",
   "execution_count": 23,
   "id": "ef6a6f73",
   "metadata": {},
   "outputs": [],
   "source": [
    "model.save('cnn_model.h5')"
   ]
  },
  {
   "cell_type": "code",
   "execution_count": 24,
   "id": "f61586a0",
   "metadata": {},
   "outputs": [
    {
     "name": "stdout",
     "output_type": "stream",
     "text": [
      "[0.03350457549095154, 0.03268667683005333, 0.03392695635557175, 0.03339473158121109, 0.03395993635058403, 0.033392827957868576, 0.03390279412269592]\n"
     ]
    }
   ],
   "source": [
    "val_mae = history.history['loss']\n",
    "print(val_mae)"
   ]
  },
  {
   "cell_type": "markdown",
   "id": "84ed2481",
   "metadata": {},
   "source": [
    "# DenseNet121"
   ]
  },
  {
   "cell_type": "code",
   "execution_count": 20,
   "id": "4779947d",
   "metadata": {},
   "outputs": [
    {
     "name": "stdout",
     "output_type": "stream",
     "text": [
      "Model: \"sequential_1\"\n",
      "_________________________________________________________________\n",
      " Layer (type)                Output Shape              Param #   \n",
      "=================================================================\n",
      " densenet121 (Functional)    (None, 1024)              7037504   \n",
      "                                                                 \n",
      " dense_4 (Dense)             (None, 120)               123000    \n",
      "                                                                 \n",
      " dense_5 (Dense)             (None, 120)               14520     \n",
      "                                                                 \n",
      " dense_6 (Dense)             (None, 1)                 121       \n",
      "                                                                 \n",
      "=================================================================\n",
      "Total params: 7,175,145\n",
      "Trainable params: 7,091,497\n",
      "Non-trainable params: 83,648\n",
      "_________________________________________________________________\n"
     ]
    }
   ],
   "source": [
    "\n",
    "dnet = DenseNet121(\n",
    "    weights='imagenet',\n",
    "    input_shape=(66,200,3),\n",
    "    include_top=False,\n",
    "    pooling='max'\n",
    ")\n",
    "\n",
    "model_dnet = Sequential()\n",
    "model_dnet.add(dnet)\n",
    "model_dnet.add(Dense(units = 120, activation='relu'))\n",
    "model_dnet.add(Dense(units = 120, activation = 'relu'))\n",
    "model_dnet.add(Dense(units = 1))\n",
    "model_dnet.summary()"
   ]
  },
  {
   "cell_type": "code",
   "execution_count": 21,
   "id": "28386b6b",
   "metadata": {},
   "outputs": [],
   "source": [
    "model_dnet.compile(optimizer=Adam(lr=0.01),loss=\"mse\")"
   ]
  },
  {
   "cell_type": "code",
   "execution_count": 22,
   "id": "cf55371f",
   "metadata": {},
   "outputs": [
    {
     "name": "stdout",
     "output_type": "stream",
     "text": [
      "Epoch 1/7\n",
      "300/300 [==============================] - 2135s 7s/step - loss: 20.6255 - val_loss: 0.0423\n",
      "Epoch 2/7\n",
      "300/300 [==============================] - 1890s 6s/step - loss: 0.0351 - val_loss: 0.2274\n",
      "Epoch 3/7\n",
      "300/300 [==============================] - 1927s 6s/step - loss: 0.0298 - val_loss: 0.0303\n",
      "Epoch 4/7\n",
      "300/300 [==============================] - 1878s 6s/step - loss: 0.0232 - val_loss: 0.0262\n",
      "Epoch 5/7\n",
      "300/300 [==============================] - 1913s 6s/step - loss: 0.0211 - val_loss: 0.0237\n",
      "Epoch 6/7\n",
      "300/300 [==============================] - 1888s 6s/step - loss: 0.0209 - val_loss: 0.0412\n",
      "Epoch 7/7\n",
      "300/300 [==============================] - 1992s 7s/step - loss: 0.0191 - val_loss: 0.0173\n"
     ]
    }
   ],
   "source": [
    "history = model_dnet.fit(batch_generator(X_train, y_train, 100, 1),\n",
    "                                  steps_per_epoch=300, \n",
    "                                  epochs=7,\n",
    "                                  validation_data=batch_generator(X_test, y_test, 100, 0),\n",
    "                                  validation_steps=200,\n",
    "                                  verbose=1)"
   ]
  },
  {
   "cell_type": "code",
   "execution_count": 26,
   "id": "c8662330",
   "metadata": {},
   "outputs": [
    {
     "data": {
      "image/png": "[encoded data removed]",
      "text/plain": [
       "<Figure size 432x288 with 1 Axes>"
      ]
     },
     "metadata": {},
     "output_type": "display_data"
    }
   ],
   "source": [
    "loss(history)"
   ]
  },
  {
   "cell_type": "code",
   "execution_count": 29,
   "id": "403c5d8c",
   "metadata": {},
   "outputs": [],
   "source": [
    "model_dnet.save('dnet.h5')"
   ]
  },
  {
   "cell_type": "code",
   "execution_count": 30,
   "id": "a3f0dc3e",
   "metadata": {},
   "outputs": [
    {
     "name": "stdout",
     "output_type": "stream",
     "text": [
      "[20.62554359436035, 0.035051409155130386, 0.029766840860247612, 0.023160526528954506, 0.02111552283167839, 0.02091629058122635, 0.019089367240667343]\n"
     ]
    }
   ],
   "source": [
    "val_mae = history.history['loss']\n",
    "print(val_mae)"
   ]
  },
  {
   "cell_type": "code",
   "execution_count": null,
   "id": "aa6a64f3",
   "metadata": {},
   "outputs": [],
   "source": []
  }
 ],
 "metadata": {
  "kernelspec": {
   "display_name": "Python 3 (ipykernel)",
   "language": "python",
   "name": "python3"
  },
  "language_info": {
   "codemirror_mode": {
    "name": "ipython",
    "version": 3
   },
   "file_extension": ".py",
   "mimetype": "text/x-python",
   "name": "python",
   "nbconvert_exporter": "python",
   "pygments_lexer": "ipython3",
   "version": "3.9.12"
  }
 },
 "nbformat": 4,
 "nbformat_minor": 5
}
