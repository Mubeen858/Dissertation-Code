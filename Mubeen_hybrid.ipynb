{
 "cells": [
  {
   "cell_type": "code",
   "execution_count": 1,
   "id": "904e26e2",
   "metadata": {},
   "outputs": [],
   "source": [
    "import pandas as pd\n",
    "import numpy as np\n",
    "\n",
    "import matplotlib.pyplot as plt\n",
    "import seaborn as sns\n",
    "import os\n",
    "from sklearn.model_selection import train_test_split\n",
    "import matplotlib.image as mpimg\n",
    "import cv2\n",
    "import random\n",
    "from imgaug import augmenters as iaa\n",
    "\n",
    "from keras.layers import Conv1D, MaxPool1D, Dropout, Flatten\n",
    "import keras\n",
    "from keras.models import Sequential\n",
    "from keras.layers import Dense\n",
    "\n",
    "from tensorflow.keras.layers import Convolution2D as C2D, MaxPooling2D as MP2D, Dropout, Flatten, Dense\n",
    "from tensorflow.keras.models import Sequential\n",
    "from tensorflow.keras.optimizers import Adam"
   ]
  },
  {
   "cell_type": "code",
   "execution_count": 2,
   "id": "c9b77d72",
   "metadata": {},
   "outputs": [],
   "source": [
    "columns = ['center', 'left', 'right', 'steering', 'throttle', 'reverse', 'speed']\n",
    "\n",
    "data= pd.read_csv('data/self_driving_car_dataset_make/driving_log.csv',names = columns)"
   ]
  },
  {
   "cell_type": "code",
   "execution_count": 3,
   "id": "019e56db",
   "metadata": {},
   "outputs": [
    {
     "data": {
      "text/html": [
       "<div>\n",
       "<style scoped>\n",
       "    .dataframe tbody tr th:only-of-type {\n",
       "        vertical-align: middle;\n",
       "    }\n",
       "\n",
       "    .dataframe tbody tr th {\n",
       "        vertical-align: top;\n",
       "    }\n",
       "\n",
       "    .dataframe thead th {\n",
       "        text-align: right;\n",
       "    }\n",
       "</style>\n",
       "<table border=\"1\" class=\"dataframe\">\n",
       "  <thead>\n",
       "    <tr style=\"text-align: right;\">\n",
       "      <th></th>\n",
       "      <th>center</th>\n",
       "      <th>left</th>\n",
       "      <th>right</th>\n",
       "      <th>steering</th>\n",
       "      <th>throttle</th>\n",
       "      <th>reverse</th>\n",
       "      <th>speed</th>\n",
       "    </tr>\n",
       "  </thead>\n",
       "  <tbody>\n",
       "    <tr>\n",
       "      <th>0</th>\n",
       "      <td>IMG\\center_2022_04_10_12_24_41_840.jpg</td>\n",
       "      <td>IMG\\left_2022_04_10_12_24_41_840.jpg</td>\n",
       "      <td>IMG\\right_2022_04_10_12_24_41_840.jpg</td>\n",
       "      <td>0.0</td>\n",
       "      <td>0.0</td>\n",
       "      <td>0</td>\n",
       "      <td>0.000013</td>\n",
       "    </tr>\n",
       "    <tr>\n",
       "      <th>1</th>\n",
       "      <td>IMG\\center_2022_04_10_12_24_41_908.jpg</td>\n",
       "      <td>IMG\\left_2022_04_10_12_24_41_908.jpg</td>\n",
       "      <td>IMG\\right_2022_04_10_12_24_41_908.jpg</td>\n",
       "      <td>0.0</td>\n",
       "      <td>0.0</td>\n",
       "      <td>0</td>\n",
       "      <td>0.000010</td>\n",
       "    </tr>\n",
       "    <tr>\n",
       "      <th>2</th>\n",
       "      <td>IMG\\center_2022_04_10_12_24_41_976.jpg</td>\n",
       "      <td>IMG\\left_2022_04_10_12_24_41_976.jpg</td>\n",
       "      <td>IMG\\right_2022_04_10_12_24_41_976.jpg</td>\n",
       "      <td>0.0</td>\n",
       "      <td>0.0</td>\n",
       "      <td>0</td>\n",
       "      <td>0.000008</td>\n",
       "    </tr>\n",
       "    <tr>\n",
       "      <th>3</th>\n",
       "      <td>IMG\\center_2022_04_10_12_24_42_044.jpg</td>\n",
       "      <td>IMG\\left_2022_04_10_12_24_42_044.jpg</td>\n",
       "      <td>IMG\\right_2022_04_10_12_24_42_044.jpg</td>\n",
       "      <td>0.0</td>\n",
       "      <td>0.0</td>\n",
       "      <td>0</td>\n",
       "      <td>0.000021</td>\n",
       "    </tr>\n",
       "    <tr>\n",
       "      <th>4</th>\n",
       "      <td>IMG\\center_2022_04_10_12_24_42_116.jpg</td>\n",
       "      <td>IMG\\left_2022_04_10_12_24_42_116.jpg</td>\n",
       "      <td>IMG\\right_2022_04_10_12_24_42_116.jpg</td>\n",
       "      <td>0.0</td>\n",
       "      <td>0.0</td>\n",
       "      <td>0</td>\n",
       "      <td>0.000014</td>\n",
       "    </tr>\n",
       "  </tbody>\n",
       "</table>\n",
       "</div>"
      ],
      "text/plain": [
       "                                   center  \\\n",
       "0  IMG\\center_2022_04_10_12_24_41_840.jpg   \n",
       "1  IMG\\center_2022_04_10_12_24_41_908.jpg   \n",
       "2  IMG\\center_2022_04_10_12_24_41_976.jpg   \n",
       "3  IMG\\center_2022_04_10_12_24_42_044.jpg   \n",
       "4  IMG\\center_2022_04_10_12_24_42_116.jpg   \n",
       "\n",
       "                                   left  \\\n",
       "0  IMG\\left_2022_04_10_12_24_41_840.jpg   \n",
       "1  IMG\\left_2022_04_10_12_24_41_908.jpg   \n",
       "2  IMG\\left_2022_04_10_12_24_41_976.jpg   \n",
       "3  IMG\\left_2022_04_10_12_24_42_044.jpg   \n",
       "4  IMG\\left_2022_04_10_12_24_42_116.jpg   \n",
       "\n",
       "                                   right  steering  throttle  reverse  \\\n",
       "0  IMG\\right_2022_04_10_12_24_41_840.jpg       0.0       0.0        0   \n",
       "1  IMG\\right_2022_04_10_12_24_41_908.jpg       0.0       0.0        0   \n",
       "2  IMG\\right_2022_04_10_12_24_41_976.jpg       0.0       0.0        0   \n",
       "3  IMG\\right_2022_04_10_12_24_42_044.jpg       0.0       0.0        0   \n",
       "4  IMG\\right_2022_04_10_12_24_42_116.jpg       0.0       0.0        0   \n",
       "\n",
       "      speed  \n",
       "0  0.000013  \n",
       "1  0.000010  \n",
       "2  0.000008  \n",
       "3  0.000021  \n",
       "4  0.000014  "
      ]
     },
     "execution_count": 3,
     "metadata": {},
     "output_type": "execute_result"
    }
   ],
   "source": [
    "data.head()"
   ]
  },
  {
   "cell_type": "code",
   "execution_count": 4,
   "id": "e332db77",
   "metadata": {},
   "outputs": [
    {
     "data": {
      "text/plain": [
       "(3930, 7)"
      ]
     },
     "execution_count": 4,
     "metadata": {},
     "output_type": "execute_result"
    }
   ],
   "source": [
    "data.shape"
   ]
  },
  {
   "cell_type": "code",
   "execution_count": 5,
   "id": "e642e3fd",
   "metadata": {},
   "outputs": [
    {
     "data": {
      "text/plain": [
       "Index(['center', 'left', 'right', 'steering', 'throttle', 'reverse', 'speed'], dtype='object')"
      ]
     },
     "execution_count": 5,
     "metadata": {},
     "output_type": "execute_result"
    }
   ],
   "source": [
    "data.columns"
   ]
  },
  {
   "cell_type": "code",
   "execution_count": 6,
   "id": "1c5ee905",
   "metadata": {},
   "outputs": [
    {
     "data": {
      "image/png": "[encoded data removed]",
      "text/plain": [
       "<Figure size 1296x1296 with 4 Axes>"
      ]
     },
     "metadata": {
      "needs_background": "light"
     },
     "output_type": "display_data"
    }
   ],
   "source": [
    "\n",
    "num_cols= ['steering', 'throttle', 'reverse', 'speed']\n",
    "\n",
    "plt.figure(figsize=(18,18))\n",
    "for i,j in zip(range(1,18),num_cols):\n",
    "    plt.subplot(6, 3, i)\n",
    "    plt.subplots_adjust(right=0.9,top=1.8)\n",
    "    plt.hist(data[j], bins = 15)\n",
    "    sns.set_theme()\n",
    "    plt.title('Histogram distribution of {}'.format(j))\n",
    "\n"
   ]
  },
  {
   "cell_type": "code",
   "execution_count": 7,
   "id": "e401451b",
   "metadata": {},
   "outputs": [
    {
     "data": {
      "image/png": "[encoded data removed]",
      "text/plain": [
       "<Figure size 1296x1296 with 4 Axes>"
      ]
     },
     "metadata": {},
     "output_type": "display_data"
    }
   ],
   "source": [
    "plt.figure(figsize=(18,18))\n",
    "for i,j in zip(range(1, 18),num_cols):\n",
    "    plt.subplot(6, 3, i)\n",
    "    plt.subplots_adjust(right=0.9,top=1.8)\n",
    "    sns.boxplot(data=data, x=j)\n",
    "    sns.set_theme()\n",
    "    plt.title('Boxplot of {}'.format(j))"
   ]
  },
  {
   "cell_type": "markdown",
   "id": "a206b324",
   "metadata": {},
   "source": [
    "# VGG16 with random forest"
   ]
  },
  {
   "cell_type": "code",
   "execution_count": 8,
   "id": "67c26964",
   "metadata": {},
   "outputs": [],
   "source": [
    "from keras.preprocessing.image import ImageDataGenerator as IDG\n",
    "datagen = IDG(validation_split=0.2)"
   ]
  },
  {
   "cell_type": "code",
   "execution_count": 9,
   "id": "6d009471",
   "metadata": {},
   "outputs": [
    {
     "name": "stdout",
     "output_type": "stream",
     "text": [
      "Found 3144 validated image filenames.\n",
      "Found 786 validated image filenames.\n"
     ]
    }
   ],
   "source": [
    "train_generator=datagen.flow_from_dataframe(\n",
    "  dataframe=data,\n",
    "  directory=\"data/self_driving_car_dataset_make/\",\n",
    "  x_col=\"center\",\n",
    "  y_col=\"steering\",\n",
    "  subset=\"training\",\n",
    "  batch_size=32,\n",
    "  seed=42,\n",
    "  shuffle=True,\n",
    "  class_mode=\"raw\",\n",
    "  target_size=(160, 320),\n",
    ")\n",
    "\n",
    "valid_generator=datagen.flow_from_dataframe(\n",
    "  dataframe=data,\n",
    "  directory=\"data/self_driving_car_dataset_make/\",\n",
    "  x_col=\"center\",\n",
    "  y_col=\"steering\",\n",
    "  subset=\"validation\",\n",
    "  batch_size=32,\n",
    "  seed=42,\n",
    "  shuffle=True,\n",
    "  class_mode=\"raw\",\n",
    "  target_size=(160, 320),\n",
    ")\n",
    "\n"
   ]
  },
  {
   "cell_type": "code",
   "execution_count": 10,
   "id": "c8a7b3b6",
   "metadata": {},
   "outputs": [
    {
     "name": "stdout",
     "output_type": "stream",
     "text": [
      "Model: \"sequential\"\n",
      "_________________________________________________________________\n",
      " Layer (type)                Output Shape              Param #   \n",
      "=================================================================\n",
      " vgg19 (Functional)          (None, 512)               20024384  \n",
      "                                                                 \n",
      " dense (Dense)               (None, 120)               61560     \n",
      "                                                                 \n",
      " dense_1 (Dense)             (None, 120)               14520     \n",
      "                                                                 \n",
      " dense_2 (Dense)             (None, 120)               14520     \n",
      "                                                                 \n",
      " dense_3 (Dense)             (None, 120)               14520     \n",
      "                                                                 \n",
      " dense_4 (Dense)             (None, 120)               14520     \n",
      "                                                                 \n",
      " dense_5 (Dense)             (None, 120)               14520     \n",
      "                                                                 \n",
      " dense_6 (Dense)             (None, 120)               14520     \n",
      "                                                                 \n",
      " dense_7 (Dense)             (None, 120)               14520     \n",
      "                                                                 \n",
      " dense_8 (Dense)             (None, 1)                 121       \n",
      "                                                                 \n",
      "=================================================================\n",
      "Total params: 20,187,705\n",
      "Trainable params: 20,187,705\n",
      "Non-trainable params: 0\n",
      "_________________________________________________________________\n"
     ]
    }
   ],
   "source": [
    "from tensorflow.keras.applications.vgg19 import VGG19\n",
    "\n",
    "vgg19 = VGG19(\n",
    "    weights='imagenet',\n",
    "    input_shape=(66,200,3),\n",
    "    include_top=False,\n",
    "    pooling='max'\n",
    ")\n",
    "\n",
    "vgg19_algo = Sequential()\n",
    "vgg19_algo.add(vgg19)\n",
    "vgg19_algo.add(Dense(units = 120, activation='relu'))\n",
    "vgg19_algo.add(Dense(units = 120, activation = 'relu'))\n",
    "vgg19_algo.add(Dense(units = 120, activation='relu'))\n",
    "vgg19_algo.add(Dense(units = 120, activation = 'relu'))\n",
    "vgg19_algo.add(Dense(units = 120, activation='relu'))\n",
    "vgg19_algo.add(Dense(units = 120, activation = 'relu'))\n",
    "vgg19_algo.add(Dense(units = 120, activation='relu'))\n",
    "vgg19_algo.add(Dense(units = 120, activation = 'relu'))\n",
    "vgg19_algo.add(Dense(units = 1))\n",
    "vgg19_algo.summary()"
   ]
  },
  {
   "cell_type": "code",
   "execution_count": 11,
   "id": "b3101413",
   "metadata": {},
   "outputs": [
    {
     "name": "stdout",
     "output_type": "stream",
     "text": [
      "99/99 [==============================] - 304s 3s/step\n"
     ]
    }
   ],
   "source": [
    "fe=vgg19_algo.predict(train_generator)\n",
    "\n",
    "features = fe.reshape(fe.shape[0], -1)\n",
    "\n",
    "ml_features = features"
   ]
  },
  {
   "cell_type": "code",
   "execution_count": 12,
   "id": "7fbad31f",
   "metadata": {},
   "outputs": [
    {
     "data": {
      "text/plain": [
       "RandomForestRegressor(n_estimators=42, random_state=42)"
      ]
     },
     "execution_count": 12,
     "metadata": {},
     "output_type": "execute_result"
    }
   ],
   "source": [
    "from sklearn.ensemble import RandomForestRegressor as RFE\n",
    "clf = RFE(n_estimators = 42, random_state = 42)\n",
    "clf.fit(ml_features,train_generator.labels)"
   ]
  },
  {
   "cell_type": "code",
   "execution_count": 14,
   "id": "55b4bfa9",
   "metadata": {},
   "outputs": [
    {
     "name": "stdout",
     "output_type": "stream",
     "text": [
      "25/25 [==============================] - 72s 3s/step\n"
     ]
    }
   ],
   "source": [
    "feature_te = vgg19_algo.predict(valid_generator)\n",
    "feature_te = feature_te.reshape(feature_te.shape[0], -1)"
   ]
  },
  {
   "cell_type": "code",
   "execution_count": 15,
   "id": "d3ff5f6d",
   "metadata": {},
   "outputs": [
    {
     "name": "stdout",
     "output_type": "stream",
     "text": [
      "Mean Squared Error of the VGG19 with random forest regressor is : 0.025474730956023522\n",
      "Mean Absolute Error of the VGG19 with random forest regressor is : 0.08511602194656487\n"
     ]
    }
   ],
   "source": [
    "pr=clf.predict(feature_te)\n",
    "\n",
    "from sklearn.metrics import mean_squared_error as mse\n",
    "from sklearn.metrics import mean_absolute_error as mae\n",
    "\n",
    "print('Mean Squared Error of the VGG19 with random forest regressor is :', mse(valid_generator.labels, pr))\n",
    "print('Mean Absolute Error of the VGG19 with random forest regressor is :', mae(valid_generator.labels, pr))\n"
   ]
  },
  {
   "cell_type": "markdown",
   "id": "5a37613b",
   "metadata": {},
   "source": [
    "# Vgg19 with linear regression"
   ]
  },
  {
   "cell_type": "code",
   "execution_count": 16,
   "id": "2b60219e",
   "metadata": {},
   "outputs": [
    {
     "data": {
      "text/plain": [
       "LinearRegression()"
      ]
     },
     "execution_count": 16,
     "metadata": {},
     "output_type": "execute_result"
    }
   ],
   "source": [
    "from sklearn.linear_model import LinearRegression as LR\n",
    "\n",
    "reg= LR()\n",
    "reg.fit(ml_features,train_generator.labels)"
   ]
  },
  {
   "cell_type": "code",
   "execution_count": 17,
   "id": "96847511",
   "metadata": {},
   "outputs": [
    {
     "name": "stdout",
     "output_type": "stream",
     "text": [
      "Mean Squared Error of the VGG19 with linear regression is : 0.015579651745213204\n",
      "Mean Absolute Error of the VGG19 with linear regrssion is : 0.06505835844216971\n"
     ]
    }
   ],
   "source": [
    "pr=reg.predict(feature_te)\n",
    "\n",
    "print('Mean Squared Error of the VGG19 with linear regression is :', mse(valid_generator.labels, pr))\n",
    "print('Mean Absolute Error of the VGG19 with linear regrssion is :', mae(valid_generator.labels, pr))\n"
   ]
  },
  {
   "cell_type": "code",
   "execution_count": null,
   "id": "a3f0dc3e",
   "metadata": {},
   "outputs": [],
   "source": []
  }
 ],
 "metadata": {
  "kernelspec": {
   "display_name": "Python 3 (ipykernel)",
   "language": "python",
   "name": "python3"
  },
  "language_info": {
   "codemirror_mode": {
    "name": "ipython",
    "version": 3
   },
   "file_extension": ".py",
   "mimetype": "text/x-python",
   "name": "python",
   "nbconvert_exporter": "python",
   "pygments_lexer": "ipython3",
   "version": "3.9.12"
  }
 },
 "nbformat": 4,
 "nbformat_minor": 5
}
